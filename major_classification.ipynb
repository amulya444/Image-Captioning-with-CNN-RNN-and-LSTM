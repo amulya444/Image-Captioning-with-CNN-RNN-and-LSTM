{
  "nbformat": 4,
  "nbformat_minor": 0,
  "metadata": {
    "colab": {
      "name": "major_classification",
      "provenance": [],
      "collapsed_sections": [],
      "mount_file_id": "1hMPgibjb7xaORYfllq9vc7dcDVCRl8hb",
      "authorship_tag": "ABX9TyMq2NpOS2BMsipZ5tNJBdvL",
      "include_colab_link": true
    },
    "kernelspec": {
      "name": "python3",
      "display_name": "Python 3"
    },
    "language_info": {
      "name": "python"
    },
    "accelerator": "GPU"
  },
  "cells": [
    {
      "cell_type": "markdown",
      "metadata": {
        "id": "view-in-github",
        "colab_type": "text"
      },
      "source": [
        "<a href=\"https://colab.research.google.com/github/amulya444/Image-Captioning-with-CNN-RNN-and-LSTM/blob/master/major_classification.ipynb\" target=\"_parent\"><img src=\"https://colab.research.google.com/assets/colab-badge.svg\" alt=\"Open In Colab\"/></a>"
      ]
    },
    {
      "cell_type": "code",
      "metadata": {
        "id": "SpilN9eWOd82"
      },
      "source": [
        "import os\n",
        "import pandas as pd\n",
        "import numpy as np\n",
        "import matplotlib.pyplot as plt\n",
        "import cv2\n",
        "import imageio\n",
        "import pathlib\n",
        "%matplotlib inline"
      ],
      "execution_count": 1,
      "outputs": []
    },
    {
      "cell_type": "code",
      "metadata": {
        "colab": {
          "base_uri": "https://localhost:8080/",
          "height": 35
        },
        "id": "txg7aj8wPDvP",
        "outputId": "215d9be5-aaf9-495c-9665-2891cf271059"
      },
      "source": [
        "import tensorflow as tf\n",
        "tf.test.gpu_device_name()"
      ],
      "execution_count": 2,
      "outputs": [
        {
          "output_type": "execute_result",
          "data": {
            "application/vnd.google.colaboratory.intrinsic+json": {
              "type": "string"
            },
            "text/plain": [
              "'/device:GPU:0'"
            ]
          },
          "metadata": {},
          "execution_count": 2
        }
      ]
    },
    {
      "cell_type": "code",
      "metadata": {
        "colab": {
          "base_uri": "https://localhost:8080/",
          "height": 0
        },
        "id": "mFvENxD1PWiX",
        "outputId": "16c9aff6-7173-43a2-eee4-bae4017f2b47"
      },
      "source": [
        "from tensorflow.keras.preprocessing.image import ImageDataGenerator\n",
        "rescaled = ImageDataGenerator(1/255)\n",
        "train_fed = rescaled.flow_from_directory('/content/drive/MyDrive/Medicinal_major_dataset/train', target_size = (128,128), batch_size=32, class_mode = 'categorical')\n",
        "test_fed = rescaled.flow_from_directory('/content/drive/MyDrive/Medicinal_major_dataset/test', target_size = (128,128), batch_size=32, class_mode = 'categorical')"
      ],
      "execution_count": 24,
      "outputs": [
        {
          "output_type": "stream",
          "name": "stdout",
          "text": [
            "Found 2397 images belonging to 31 classes.\n",
            "Found 590 images belonging to 31 classes.\n"
          ]
        }
      ]
    },
    {
      "cell_type": "code",
      "metadata": {
        "id": "NWnVL5y9VVbR"
      },
      "source": [
        "model = tf.keras.models.Sequential([tf.keras.layers.Conv2D(16, (3,3), activation = 'relu', input_shape = (128, 128,3)),\n",
        "                                    tf.keras.layers.MaxPool2D(2,2),\n",
        "                                    \n",
        "                                    tf.keras.layers.Conv2D(32, (3,3), activation = 'relu'),\n",
        "                                    tf.keras.layers.MaxPool2D(2,2),\n",
        "                                    \n",
        "                                    tf.keras.layers.Conv2D(64, (3,3), activation = 'relu'),\n",
        "                                    tf.keras.layers.MaxPool2D(2,2),\n",
        "                                    \n",
        "                                    tf.keras.layers.Conv2D(128, (3,3), activation = 'relu'),\n",
        "                                    tf.keras.layers.MaxPool2D(2,2),\n",
        "\n",
        "                                    tf.keras.layers.Flatten(),\n",
        "\n",
        "                                    tf.keras.layers.Dense(128, activation = 'relu'),\n",
        "                                    tf.keras.layers.Dropout(0.5),\n",
        "                                    tf.keras.layers.Dense(31, activation = 'softmax')])"
      ],
      "execution_count": 45,
      "outputs": []
    },
    {
      "cell_type": "code",
      "metadata": {
        "colab": {
          "base_uri": "https://localhost:8080/",
          "height": 0
        },
        "id": "T9SbOIfNapXP",
        "outputId": "dd24582b-8ee2-4b61-8d06-278d2f4d5661"
      },
      "source": [
        "model.summary()"
      ],
      "execution_count": 46,
      "outputs": [
        {
          "output_type": "stream",
          "name": "stdout",
          "text": [
            "Model: \"sequential_2\"\n",
            "_________________________________________________________________\n",
            " Layer (type)                Output Shape              Param #   \n",
            "=================================================================\n",
            " conv2d_9 (Conv2D)           (None, 126, 126, 16)      448       \n",
            "                                                                 \n",
            " max_pooling2d_8 (MaxPooling  (None, 63, 63, 16)       0         \n",
            " 2D)                                                             \n",
            "                                                                 \n",
            " conv2d_10 (Conv2D)          (None, 61, 61, 32)        4640      \n",
            "                                                                 \n",
            " max_pooling2d_9 (MaxPooling  (None, 30, 30, 32)       0         \n",
            " 2D)                                                             \n",
            "                                                                 \n",
            " conv2d_11 (Conv2D)          (None, 28, 28, 64)        18496     \n",
            "                                                                 \n",
            " max_pooling2d_10 (MaxPoolin  (None, 14, 14, 64)       0         \n",
            " g2D)                                                            \n",
            "                                                                 \n",
            " conv2d_12 (Conv2D)          (None, 12, 12, 128)       73856     \n",
            "                                                                 \n",
            " max_pooling2d_11 (MaxPoolin  (None, 6, 6, 128)        0         \n",
            " g2D)                                                            \n",
            "                                                                 \n",
            " flatten_2 (Flatten)         (None, 4608)              0         \n",
            "                                                                 \n",
            " dense_4 (Dense)             (None, 128)               589952    \n",
            "                                                                 \n",
            " dropout_2 (Dropout)         (None, 128)               0         \n",
            "                                                                 \n",
            " dense_5 (Dense)             (None, 31)                3999      \n",
            "                                                                 \n",
            "=================================================================\n",
            "Total params: 691,391\n",
            "Trainable params: 691,391\n",
            "Non-trainable params: 0\n",
            "_________________________________________________________________\n"
          ]
        }
      ]
    },
    {
      "cell_type": "code",
      "metadata": {
        "id": "MCRRN70IdtDO"
      },
      "source": [
        "from tensorflow.keras.optimizers import Adam\n",
        "model.compile(loss = 'categorical_crossentropy', optimizer = 'Adam', metrics = ['accuracy'])\n"
      ],
      "execution_count": 47,
      "outputs": []
    },
    {
      "cell_type": "code",
      "metadata": {
        "id": "kYf2l1BueKYz"
      },
      "source": [
        "from keras.callbacks import EarlyStopping, ModelCheckpoint, ReduceLROnPlateau\n",
        "import h5py"
      ],
      "execution_count": 48,
      "outputs": []
    },
    {
      "cell_type": "code",
      "metadata": {
        "id": "6ap1xYJJedKd"
      },
      "source": [
        "erl_stop =  EarlyStopping(monitor= 'Val_loss', patience = 6, restore_best_weights=True)\n",
        "mod_chk = ModelCheckpoint(filepath='/content/drive/MyDrive/archive/my_model.hdf5', monitor='Val_loss', save_best_only=True)\n",
        "lr_rate = ReduceLROnPlateau(monitor='Val_loss', patience=3, factor=0.1)"
      ],
      "execution_count": 50,
      "outputs": []
    },
    {
      "cell_type": "code",
      "metadata": {
        "colab": {
          "base_uri": "https://localhost:8080/"
        },
        "id": "DKsLjuOMjKJM",
        "outputId": "debe1866-804a-4585-e8b6-d4911a9be121"
      },
      "source": [
        "hist = model.fit_generator(train_fed, shuffle=True, epochs=20, validation_data=test_fed,\n",
        "                           callbacks=[erl_stop, mod_chk, lr_rate], verbose=2)"
      ],
      "execution_count": 52,
      "outputs": [
        {
          "output_type": "stream",
          "name": "stderr",
          "text": [
            "/usr/local/lib/python3.7/dist-packages/ipykernel_launcher.py:2: UserWarning: `Model.fit_generator` is deprecated and will be removed in a future version. Please use `Model.fit`, which supports generators.\n",
            "  \n",
            "/usr/local/lib/python3.7/dist-packages/keras_preprocessing/image/image_data_generator.py:720: UserWarning: This ImageDataGenerator specifies `featurewise_center`, but it hasn't been fit on any training data. Fit it first by calling `.fit(numpy_data)`.\n",
            "  warnings.warn('This ImageDataGenerator specifies '\n"
          ]
        },
        {
          "output_type": "stream",
          "name": "stdout",
          "text": [
            "Epoch 1/20\n",
            "WARNING:tensorflow:Early stopping conditioned on metric `Val_loss` which is not available. Available metrics are: loss,accuracy,val_loss,val_accuracy\n",
            "WARNING:tensorflow:Can save best model only with Val_loss available, skipping.\n",
            "WARNING:tensorflow:Learning rate reduction is conditioned on metric `Val_loss` which is not available. Available metrics are: loss,accuracy,val_loss,val_accuracy,lr\n",
            "75/75 - 539s - loss: 3.3599 - accuracy: 0.1030 - val_loss: 3.4163 - val_accuracy: 0.0339 - lr: 0.0010 - 539s/epoch - 7s/step\n",
            "Epoch 2/20\n",
            "WARNING:tensorflow:Early stopping conditioned on metric `Val_loss` which is not available. Available metrics are: loss,accuracy,val_loss,val_accuracy\n",
            "WARNING:tensorflow:Can save best model only with Val_loss available, skipping.\n",
            "WARNING:tensorflow:Learning rate reduction is conditioned on metric `Val_loss` which is not available. Available metrics are: loss,accuracy,val_loss,val_accuracy,lr\n",
            "75/75 - 66s - loss: 3.3181 - accuracy: 0.1101 - val_loss: 3.2960 - val_accuracy: 0.0763 - lr: 0.0010 - 66s/epoch - 881ms/step\n",
            "Epoch 3/20\n",
            "WARNING:tensorflow:Early stopping conditioned on metric `Val_loss` which is not available. Available metrics are: loss,accuracy,val_loss,val_accuracy\n",
            "WARNING:tensorflow:Can save best model only with Val_loss available, skipping.\n",
            "WARNING:tensorflow:Learning rate reduction is conditioned on metric `Val_loss` which is not available. Available metrics are: loss,accuracy,val_loss,val_accuracy,lr\n",
            "75/75 - 66s - loss: 3.2330 - accuracy: 0.1206 - val_loss: 3.1837 - val_accuracy: 0.1203 - lr: 0.0010 - 66s/epoch - 879ms/step\n",
            "Epoch 4/20\n",
            "WARNING:tensorflow:Early stopping conditioned on metric `Val_loss` which is not available. Available metrics are: loss,accuracy,val_loss,val_accuracy\n",
            "WARNING:tensorflow:Can save best model only with Val_loss available, skipping.\n",
            "WARNING:tensorflow:Learning rate reduction is conditioned on metric `Val_loss` which is not available. Available metrics are: loss,accuracy,val_loss,val_accuracy,lr\n",
            "75/75 - 66s - loss: 3.1149 - accuracy: 0.1381 - val_loss: 2.9840 - val_accuracy: 0.1237 - lr: 0.0010 - 66s/epoch - 881ms/step\n",
            "Epoch 5/20\n",
            "WARNING:tensorflow:Early stopping conditioned on metric `Val_loss` which is not available. Available metrics are: loss,accuracy,val_loss,val_accuracy\n",
            "WARNING:tensorflow:Can save best model only with Val_loss available, skipping.\n",
            "WARNING:tensorflow:Learning rate reduction is conditioned on metric `Val_loss` which is not available. Available metrics are: loss,accuracy,val_loss,val_accuracy,lr\n",
            "75/75 - 65s - loss: 2.9430 - accuracy: 0.1673 - val_loss: 2.6272 - val_accuracy: 0.2407 - lr: 0.0010 - 65s/epoch - 872ms/step\n",
            "Epoch 6/20\n",
            "WARNING:tensorflow:Early stopping conditioned on metric `Val_loss` which is not available. Available metrics are: loss,accuracy,val_loss,val_accuracy\n",
            "WARNING:tensorflow:Can save best model only with Val_loss available, skipping.\n",
            "WARNING:tensorflow:Learning rate reduction is conditioned on metric `Val_loss` which is not available. Available metrics are: loss,accuracy,val_loss,val_accuracy,lr\n",
            "75/75 - 65s - loss: 2.8556 - accuracy: 0.1886 - val_loss: 2.6062 - val_accuracy: 0.2390 - lr: 0.0010 - 65s/epoch - 872ms/step\n",
            "Epoch 7/20\n",
            "WARNING:tensorflow:Early stopping conditioned on metric `Val_loss` which is not available. Available metrics are: loss,accuracy,val_loss,val_accuracy\n",
            "WARNING:tensorflow:Can save best model only with Val_loss available, skipping.\n",
            "WARNING:tensorflow:Learning rate reduction is conditioned on metric `Val_loss` which is not available. Available metrics are: loss,accuracy,val_loss,val_accuracy,lr\n",
            "75/75 - 66s - loss: 2.6322 - accuracy: 0.2199 - val_loss: 2.3495 - val_accuracy: 0.2881 - lr: 0.0010 - 66s/epoch - 880ms/step\n",
            "Epoch 8/20\n",
            "WARNING:tensorflow:Early stopping conditioned on metric `Val_loss` which is not available. Available metrics are: loss,accuracy,val_loss,val_accuracy\n",
            "WARNING:tensorflow:Can save best model only with Val_loss available, skipping.\n",
            "WARNING:tensorflow:Learning rate reduction is conditioned on metric `Val_loss` which is not available. Available metrics are: loss,accuracy,val_loss,val_accuracy,lr\n",
            "75/75 - 66s - loss: 2.4641 - accuracy: 0.2753 - val_loss: 2.0845 - val_accuracy: 0.3712 - lr: 0.0010 - 66s/epoch - 874ms/step\n",
            "Epoch 9/20\n",
            "WARNING:tensorflow:Early stopping conditioned on metric `Val_loss` which is not available. Available metrics are: loss,accuracy,val_loss,val_accuracy\n",
            "WARNING:tensorflow:Can save best model only with Val_loss available, skipping.\n",
            "WARNING:tensorflow:Learning rate reduction is conditioned on metric `Val_loss` which is not available. Available metrics are: loss,accuracy,val_loss,val_accuracy,lr\n",
            "75/75 - 65s - loss: 2.2983 - accuracy: 0.3020 - val_loss: 1.7870 - val_accuracy: 0.5034 - lr: 0.0010 - 65s/epoch - 869ms/step\n",
            "Epoch 10/20\n",
            "WARNING:tensorflow:Early stopping conditioned on metric `Val_loss` which is not available. Available metrics are: loss,accuracy,val_loss,val_accuracy\n",
            "WARNING:tensorflow:Can save best model only with Val_loss available, skipping.\n",
            "WARNING:tensorflow:Learning rate reduction is conditioned on metric `Val_loss` which is not available. Available metrics are: loss,accuracy,val_loss,val_accuracy,lr\n",
            "75/75 - 65s - loss: 2.1259 - accuracy: 0.3554 - val_loss: 1.7590 - val_accuracy: 0.5288 - lr: 0.0010 - 65s/epoch - 871ms/step\n",
            "Epoch 11/20\n",
            "WARNING:tensorflow:Early stopping conditioned on metric `Val_loss` which is not available. Available metrics are: loss,accuracy,val_loss,val_accuracy\n",
            "WARNING:tensorflow:Can save best model only with Val_loss available, skipping.\n",
            "WARNING:tensorflow:Learning rate reduction is conditioned on metric `Val_loss` which is not available. Available metrics are: loss,accuracy,val_loss,val_accuracy,lr\n",
            "75/75 - 65s - loss: 1.9486 - accuracy: 0.3913 - val_loss: 1.3316 - val_accuracy: 0.6407 - lr: 0.0010 - 65s/epoch - 869ms/step\n",
            "Epoch 12/20\n",
            "WARNING:tensorflow:Early stopping conditioned on metric `Val_loss` which is not available. Available metrics are: loss,accuracy,val_loss,val_accuracy\n",
            "WARNING:tensorflow:Can save best model only with Val_loss available, skipping.\n",
            "WARNING:tensorflow:Learning rate reduction is conditioned on metric `Val_loss` which is not available. Available metrics are: loss,accuracy,val_loss,val_accuracy,lr\n",
            "75/75 - 66s - loss: 1.8394 - accuracy: 0.4435 - val_loss: 1.1360 - val_accuracy: 0.6678 - lr: 0.0010 - 66s/epoch - 876ms/step\n",
            "Epoch 13/20\n",
            "WARNING:tensorflow:Early stopping conditioned on metric `Val_loss` which is not available. Available metrics are: loss,accuracy,val_loss,val_accuracy\n",
            "WARNING:tensorflow:Can save best model only with Val_loss available, skipping.\n",
            "WARNING:tensorflow:Learning rate reduction is conditioned on metric `Val_loss` which is not available. Available metrics are: loss,accuracy,val_loss,val_accuracy,lr\n",
            "75/75 - 66s - loss: 1.6192 - accuracy: 0.4927 - val_loss: 1.0991 - val_accuracy: 0.6864 - lr: 0.0010 - 66s/epoch - 876ms/step\n",
            "Epoch 14/20\n",
            "WARNING:tensorflow:Early stopping conditioned on metric `Val_loss` which is not available. Available metrics are: loss,accuracy,val_loss,val_accuracy\n",
            "WARNING:tensorflow:Can save best model only with Val_loss available, skipping.\n",
            "WARNING:tensorflow:Learning rate reduction is conditioned on metric `Val_loss` which is not available. Available metrics are: loss,accuracy,val_loss,val_accuracy,lr\n",
            "75/75 - 66s - loss: 1.5623 - accuracy: 0.5077 - val_loss: 1.0184 - val_accuracy: 0.7254 - lr: 0.0010 - 66s/epoch - 882ms/step\n",
            "Epoch 15/20\n",
            "WARNING:tensorflow:Early stopping conditioned on metric `Val_loss` which is not available. Available metrics are: loss,accuracy,val_loss,val_accuracy\n",
            "WARNING:tensorflow:Can save best model only with Val_loss available, skipping.\n",
            "WARNING:tensorflow:Learning rate reduction is conditioned on metric `Val_loss` which is not available. Available metrics are: loss,accuracy,val_loss,val_accuracy,lr\n",
            "75/75 - 66s - loss: 1.4041 - accuracy: 0.5594 - val_loss: 0.8364 - val_accuracy: 0.7898 - lr: 0.0010 - 66s/epoch - 884ms/step\n",
            "Epoch 16/20\n",
            "WARNING:tensorflow:Early stopping conditioned on metric `Val_loss` which is not available. Available metrics are: loss,accuracy,val_loss,val_accuracy\n",
            "WARNING:tensorflow:Can save best model only with Val_loss available, skipping.\n",
            "WARNING:tensorflow:Learning rate reduction is conditioned on metric `Val_loss` which is not available. Available metrics are: loss,accuracy,val_loss,val_accuracy,lr\n",
            "75/75 - 67s - loss: 1.3302 - accuracy: 0.5791 - val_loss: 0.6975 - val_accuracy: 0.8305 - lr: 0.0010 - 67s/epoch - 887ms/step\n",
            "Epoch 17/20\n",
            "WARNING:tensorflow:Early stopping conditioned on metric `Val_loss` which is not available. Available metrics are: loss,accuracy,val_loss,val_accuracy\n",
            "WARNING:tensorflow:Can save best model only with Val_loss available, skipping.\n",
            "WARNING:tensorflow:Learning rate reduction is conditioned on metric `Val_loss` which is not available. Available metrics are: loss,accuracy,val_loss,val_accuracy,lr\n",
            "75/75 - 66s - loss: 1.2052 - accuracy: 0.6012 - val_loss: 0.6738 - val_accuracy: 0.8305 - lr: 0.0010 - 66s/epoch - 881ms/step\n",
            "Epoch 18/20\n",
            "WARNING:tensorflow:Early stopping conditioned on metric `Val_loss` which is not available. Available metrics are: loss,accuracy,val_loss,val_accuracy\n",
            "WARNING:tensorflow:Can save best model only with Val_loss available, skipping.\n",
            "WARNING:tensorflow:Learning rate reduction is conditioned on metric `Val_loss` which is not available. Available metrics are: loss,accuracy,val_loss,val_accuracy,lr\n",
            "75/75 - 66s - loss: 1.1155 - accuracy: 0.6383 - val_loss: 0.6594 - val_accuracy: 0.8322 - lr: 0.0010 - 66s/epoch - 883ms/step\n",
            "Epoch 19/20\n",
            "WARNING:tensorflow:Early stopping conditioned on metric `Val_loss` which is not available. Available metrics are: loss,accuracy,val_loss,val_accuracy\n",
            "WARNING:tensorflow:Can save best model only with Val_loss available, skipping.\n",
            "WARNING:tensorflow:Learning rate reduction is conditioned on metric `Val_loss` which is not available. Available metrics are: loss,accuracy,val_loss,val_accuracy,lr\n",
            "75/75 - 66s - loss: 1.0142 - accuracy: 0.6688 - val_loss: 0.4331 - val_accuracy: 0.8831 - lr: 0.0010 - 66s/epoch - 876ms/step\n",
            "Epoch 20/20\n",
            "WARNING:tensorflow:Early stopping conditioned on metric `Val_loss` which is not available. Available metrics are: loss,accuracy,val_loss,val_accuracy\n",
            "WARNING:tensorflow:Can save best model only with Val_loss available, skipping.\n",
            "WARNING:tensorflow:Learning rate reduction is conditioned on metric `Val_loss` which is not available. Available metrics are: loss,accuracy,val_loss,val_accuracy,lr\n",
            "75/75 - 66s - loss: 0.9562 - accuracy: 0.6854 - val_loss: 0.3524 - val_accuracy: 0.8966 - lr: 0.0010 - 66s/epoch - 880ms/step\n"
          ]
        }
      ]
    }
  ]
}